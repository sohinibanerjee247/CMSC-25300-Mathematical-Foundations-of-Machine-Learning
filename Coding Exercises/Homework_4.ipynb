{
 "cells": [
  {
   "cell_type": "code",
   "execution_count": 1,
   "metadata": {},
   "outputs": [],
   "source": [
    "import numpy as np\n",
    "import matplotlib.pyplot as plt\n",
    "import scipy.io as sio\n",
    "import sys\n",
    "import numpy.linalg as la\n",
    "from tabulate import tabulate\n",
    "import random"
   ]
  },
  {
   "cell_type": "markdown",
   "metadata": {},
   "source": [
    "# 1a"
   ]
  },
  {
   "cell_type": "code",
   "execution_count": 2,
   "metadata": {},
   "outputs": [],
   "source": [
    "def gram_schmidt(X):\n",
    "    # X is an n-by-p matrix.\n",
    "    # Returns U an orthonormal matrix.\n",
    "    # eps is a threshold value to identify if a vector\n",
    "    # is nearly a zero vector.\n",
    "    eps = 1e-12\n",
    "\n",
    "    n, p = X.shape\n",
    "    U = np.zeros((n, 0))\n",
    "    for j in range(p):\n",
    "        # Get the j-th column of matrix X\n",
    "        v = X[:, j]\n",
    "        # Write your own code here: Perform the\n",
    "        # orthogonalization by subtracting the projections on\n",
    "        # all columns of U. And then check whether the vector\n",
    "        # you get is nearly a zero vector.\n",
    "        vbar = v - U @ U.T @ v\n",
    "        norm = la.norm(vbar)\n",
    "        if norm > eps:\n",
    "            vbar = (1 / norm) * vbar\n",
    "        U = np.hstack((U, np.reshape(vbar, (n, 1))))\n",
    "    return U"
   ]
  },
  {
   "cell_type": "code",
   "execution_count": 3,
   "metadata": {},
   "outputs": [],
   "source": [
    "def hilbert_matrix(n):\n",
    "    X = np.array(\n",
    "        [[1.0 / (i + j - 1) for i in range(1, n + 1)] for j in range(1, n + 1)]\n",
    "    )\n",
    "    return X\n",
    "\n",
    "\n",
    "size_hilbert = 7\n",
    "matrix_hilbert = hilbert_matrix(size_hilbert)"
   ]
  },
  {
   "cell_type": "markdown",
   "metadata": {},
   "source": [
    "# 1b"
   ]
  },
  {
   "cell_type": "code",
   "execution_count": 4,
   "metadata": {},
   "outputs": [],
   "source": [
    "def compute_hilbert_error(gs_hilbert, size_hilbert):\n",
    "    ortho_hilbert = gs_hilbert.T @ gs_hilbert\n",
    "    identity = np.eye(size_hilbert)\n",
    "    return la.norm(ortho_hilbert - identity, ord=1)"
   ]
  },
  {
   "cell_type": "markdown",
   "metadata": {},
   "source": [
    "This error computation checks orthogonality by computing $G.T \\cdot G$, which should yield the identity matrix is we produced an orthonormal basis (i.e. all vectors are orthogonal to the other vectors unless that vector is itself, in which case the dot product should be $1$ since they are normalalized). We check this by evaluating the L1 norm from the identity matrix."
   ]
  },
  {
   "cell_type": "code",
   "execution_count": 5,
   "metadata": {},
   "outputs": [
    {
     "name": "stdout",
     "output_type": "stream",
     "text": [
      "0.24615611198508858\n"
     ]
    }
   ],
   "source": [
    "gs_hilbert_original = gram_schmidt(matrix_hilbert)\n",
    "error_original = compute_hilbert_error(gs_hilbert_original, size_hilbert)\n",
    "print(error_original)"
   ]
  },
  {
   "cell_type": "markdown",
   "metadata": {},
   "source": [
    "Using this method, we get an error of approximately 0.25."
   ]
  },
  {
   "cell_type": "markdown",
   "metadata": {},
   "source": [
    "# 1c"
   ]
  },
  {
   "cell_type": "code",
   "execution_count": 6,
   "metadata": {},
   "outputs": [],
   "source": [
    "def modified_gram_schmidt(X):\n",
    "    # Define a threshold value to identify if a vector\n",
    "    # is nearly a zero vector.\n",
    "    eps = 1e-12\n",
    "\n",
    "    n, p = X.shape\n",
    "    U = np.zeros((n, 0))\n",
    "\n",
    "    for j in range(p):\n",
    "        # Get the j-th column of matrix X\n",
    "        v = X[:, j]\n",
    "        for i in range(j):\n",
    "            # Compute and subtract the projection of\n",
    "            # vector v onto the i-th column of U\n",
    "            v = v - np.dot(U[:, i], v) * U[:, i]\n",
    "        v = np.reshape(v, (-1, 1))\n",
    "        # Check whether the vector we get is nearly\n",
    "        # a zero vector\n",
    "        if np.linalg.norm(v) > eps:\n",
    "            # Normalize vector v and append it to U\n",
    "            U = np.hstack((U, v / np.linalg.norm(v)))\n",
    "\n",
    "    return U"
   ]
  },
  {
   "cell_type": "code",
   "execution_count": 7,
   "metadata": {},
   "outputs": [
    {
     "name": "stdout",
     "output_type": "stream",
     "text": [
      "7.949993888719218e-09\n"
     ]
    }
   ],
   "source": [
    "gs_hilbert_modified = modified_gram_schmidt(matrix_hilbert)\n",
    "error_modified = compute_hilbert_error(gs_hilbert_modified, size_hilbert)\n",
    "print(error_modified)"
   ]
  },
  {
   "cell_type": "markdown",
   "metadata": {},
   "source": [
    "Using this method, we get an error near 0, a significant improvement from the previous method. Between the original and modified G-S algorithm, the projection of vector onto a column of $U$ is computed differently. In the original, this is computed in a single step, whereas the modified does this separately for each column in $U$. The first approach leads to a error accumulation in calculating the new vector against existing ones together. These small error accumulations can lead to significant error differences when dealing with a large matrix. On the other hand, the modified method subtracts the projection component for the previous columns of $U$ individually, making it less susceptible to the accumulated errors."
   ]
  },
  {
   "cell_type": "markdown",
   "metadata": {},
   "source": [
    "# 6a"
   ]
  },
  {
   "cell_type": "code",
   "execution_count": 8,
   "metadata": {},
   "outputs": [],
   "source": [
    "# d = sio.loadmat('face_emotion_data.mat')\n",
    "d = np.load(\"face_emotion_data.npz\")\n",
    "X = d[\"X\"]\n",
    "y = d[\"y\"]\n",
    "\n",
    "n, p = np.shape(X)\n",
    "\n",
    "# error rate for regularized least squares\n",
    "error_RLS = np.zeros((8, 7))\n",
    "# error rate for truncated SVD\n",
    "error_SVD = np.zeros((8, 7))\n",
    "\n",
    "# SVD parameters to test\n",
    "k_vals = np.arange(9) + 1\n",
    "param_err_SVD = np.zeros(len(k_vals))\n",
    "\n",
    "# RLS parameters to test\n",
    "lambda_vals = np.array([0, 0.5, 1, 2, 4, 8, 16])\n",
    "param_err_RLS = np.zeros(len(lambda_vals))"
   ]
  },
  {
   "cell_type": "code",
   "execution_count": 9,
   "metadata": {},
   "outputs": [],
   "source": [
    "def truncated_svd(\n",
    "    features: np.ndarray, labels: np.ndarray, k_vals, subset_count: int = 8\n",
    ") -> float:\n",
    "    sample_count, feature_count = features.shape\n",
    "    subset_size = sample_count // subset_count\n",
    "\n",
    "    # Reshape arrays for easier subset-level manipulation\n",
    "    features = features.reshape(subset_count, subset_size, feature_count)\n",
    "    labels = labels.reshape(subset_count, subset_size)\n",
    "\n",
    "    subset_idcs = np.arange(subset_count)\n",
    "    train_set_size = (subset_count - 2) * subset_size\n",
    "    subset_err_counts = np.zeros((subset_count, subset_count))\n",
    "\n",
    "    for reg_index in range(subset_count):\n",
    "        current_hold_out_index = 0\n",
    "\n",
    "        for hold_out_index in range(subset_count):\n",
    "            if reg_index != hold_out_index:\n",
    "                current_features = np.zeros((0, feature_count))\n",
    "                current_labels = np.zeros((0,))\n",
    "\n",
    "                for subset_index in range(subset_count):\n",
    "                    if subset_index != reg_index and subset_index != hold_out_index:\n",
    "                        current_features = np.concatenate(\n",
    "                            (current_features, features[subset_index])\n",
    "                        )\n",
    "                        current_labels = np.concatenate(\n",
    "                            (current_labels, labels[subset_index])\n",
    "                        )\n",
    "\n",
    "                U, S, Vh = la.svd(current_features, full_matrices=True)\n",
    "\n",
    "                reg_weights = []\n",
    "                reg_error_counts = []\n",
    "\n",
    "                for index in range(len(k_vals)):\n",
    "                    num_params = k_vals[index]\n",
    "                    new_U = U[:, :num_params]\n",
    "                    new_S = np.diag(1 / S[:num_params])\n",
    "                    new_Vh = Vh[:num_params, :]\n",
    "\n",
    "                    pseudo_inv_X = new_Vh.T @ new_S.T @ new_U.T\n",
    "                    current_weights = pseudo_inv_X @ current_labels\n",
    "\n",
    "                    reg_predictions = features[reg_index] @ current_weights\n",
    "                    reg_error_counts.append(\n",
    "                        sum(np.sign(reg_predictions) != np.sign(labels[reg_index]))\n",
    "                    )\n",
    "                    param_err_SVD[index] += reg_error_counts[-1]\n",
    "                    reg_weights.append(current_weights)\n",
    "\n",
    "                best_param_index, best_error = None, float(\"inf\")\n",
    "                for i in range(feature_count):\n",
    "                    if reg_error_counts[i] < best_error:\n",
    "                        best_param_index, best_error = i, reg_error_counts[i]\n",
    "\n",
    "                hold_out_predictions = (\n",
    "                    features[hold_out_index] @ reg_weights[best_param_index]\n",
    "                )\n",
    "                subset_err_counts[reg_index][hold_out_index] = (\n",
    "                    sum(\n",
    "                        np.sign(hold_out_predictions) != np.sign(labels[hold_out_index])\n",
    "                    )\n",
    "                    / subset_size\n",
    "                )\n",
    "\n",
    "                error_SVD[reg_index][current_hold_out_index] = subset_err_counts[\n",
    "                    reg_index\n",
    "                ][hold_out_index]\n",
    "                current_hold_out_index += 1\n",
    "\n",
    "    # Average over the entire dataset to find the classification error\n",
    "    cls_err = np.sum(subset_err_counts) / (subset_count * (subset_count - 1))\n",
    "    return cls_err"
   ]
  },
  {
   "cell_type": "code",
   "execution_count": 10,
   "metadata": {},
   "outputs": [],
   "source": [
    "# Run on the dataset with all features included\n",
    "full_feat_svd_err = truncated_svd(X, y, np.arange(9) + 1)"
   ]
  },
  {
   "cell_type": "code",
   "execution_count": 11,
   "metadata": {},
   "outputs": [
    {
     "name": "stdout",
     "output_type": "stream",
     "text": [
      "0.11160714285714286\n",
      "Error estimate: 11.161%\n"
     ]
    }
   ],
   "source": [
    "param_err_SVD = param_err_SVD / (8 * 7)\n",
    "\n",
    "print(full_feat_svd_err)\n",
    "print(f\"Error estimate: {full_feat_svd_err*100:.3f}%\")"
   ]
  },
  {
   "cell_type": "markdown",
   "metadata": {},
   "source": [
    "# 6b"
   ]
  },
  {
   "cell_type": "markdown",
   "metadata": {},
   "source": [
    "From class, we showed that the $\\hat w_\\lambda = (X^T X + \\lambda I)^{-1} X^T y$.\n",
    "\n",
    "Note the following: $X = U \\Sigma V^T$, $X^T = V \\Sigma^T U^T$, $U^T U = U U^T = I$, $V^T V = V V^T = I$\n",
    "\n",
    "Given these facts, $\\hat w_\\lambda = (V \\Sigma^T U^T U \\Sigma V^T + \\lambda V V^T)^{-1} V \\Sigma^T U^T y$. Then, $\\hat w_\\lambda = (V (\\Sigma^T \\Sigma + \\lambda) V^T)^{-1} V \\Sigma^T U^T y$. We know that $\\Sigma$ is $nxd$ and $\\Sigma^T$ is $dxn$, and since $\\Sigma$ is a diagonal matrix, we know that $\\Sigma^T \\Sigma$ is $dxd$ and a diagonal matrix where the diagonal entries are ${s_i}^2$. Then, we add $\\lambda$ to each diagonal entry of $\\Sigma^T \\Sigma$ since $\\lambda$ was multiplied with $I$. Let $A$ denote the diagonal matrix where the diagonal entries are ${s_i}^2 + \\lambda$. Furthermore, let $B$ be the diagonal matrix where the diagonal entries $\\frac{1}{{s_i}^2 + \\lambda}$. Then, we can simplify and get $\\hat w_\\lambda = V B V^T V \\Sigma^T U^T y = V B \\Sigma^T U^T y$. Again, multiplying $B$ by $\\Sigma^T$ gives us a $dxn$ matrix where the diagonal entries are $\\frac{{s_i}^2}{{s_i}^2 + \\lambda}$, and all other entries are $0$, and denote this new matrix $C$. Thus, we get that $\\hat w_\\lambda = V C U^T y$. Furthermore, $y$ and $\\lambda$ (per parameter iteration) are given, as well as SVD outputs $U$, $\\Sigma$, and $V^T$, which we can use to calculate $U^T$, $C$, and $V$."
   ]
  },
  {
   "cell_type": "code",
   "execution_count": 12,
   "metadata": {},
   "outputs": [],
   "source": [
    "def regularized_ls(\n",
    "    features: np.ndarray, labels: np.ndarray, subset_count: int = 8\n",
    ") -> float:\n",
    "    sample_count, feature_count = features.shape\n",
    "    subset_size = sample_count // subset_count\n",
    "\n",
    "    # Reshape arrays for easier subset-level manipulation\n",
    "    features = features.reshape(subset_count, subset_size, feature_count)\n",
    "    labels = labels.reshape(subset_count, subset_size)\n",
    "\n",
    "    subset_idcs = np.arange(subset_count)\n",
    "    train_set_size = (subset_count - 2) * subset_size\n",
    "    subset_err_counts = np.zeros((subset_count, subset_count))\n",
    "\n",
    "    for reg_index in range(subset_count):\n",
    "        current_hold_out_index = 0\n",
    "\n",
    "        for hold_out_index in range(subset_count):\n",
    "            if reg_index != hold_out_index:\n",
    "                current_features = np.zeros((0, feature_count))\n",
    "                current_labels = np.zeros((0,))\n",
    "\n",
    "                for subset_index in range(subset_count):\n",
    "                    if subset_index != reg_index and subset_index != hold_out_index:\n",
    "                        current_features = np.concatenate(\n",
    "                            (current_features, features[subset_index])\n",
    "                        )\n",
    "                        current_labels = np.concatenate(\n",
    "                            (current_labels, labels[subset_index])\n",
    "                        )\n",
    "\n",
    "                U, S, Vh = la.svd(current_features, full_matrices=True)\n",
    "\n",
    "                reg_weights = []\n",
    "                reg_error_counts = []\n",
    "\n",
    "                for index in range(len(lambda_vals)):\n",
    "                    lambda_val = lambda_vals[index]\n",
    "                    new_S = np.zeros((feature_count, train_set_size))\n",
    "                    for sigma_index in range(feature_count):\n",
    "                        new_S[sigma_index, sigma_index] = S[sigma_index] / (\n",
    "                            S[sigma_index] ** 2 + lambda_val\n",
    "                        )\n",
    "\n",
    "                    rls_X = Vh.T @ new_S @ U.T\n",
    "                    current_weights = rls_X @ current_labels\n",
    "\n",
    "                    reg_predictions = features[reg_index] @ current_weights\n",
    "                    reg_error_counts.append(\n",
    "                        sum(np.sign(reg_predictions) != np.sign(labels[reg_index]))\n",
    "                    )\n",
    "                    param_err_RLS[index] += reg_error_counts[-1]\n",
    "                    reg_weights.append(current_weights)\n",
    "\n",
    "                best_param_index, best_error = None, float(\"inf\")\n",
    "                for i in range(len(lambda_vals)):\n",
    "                    if reg_error_counts[i] < best_error:\n",
    "                        best_param_index, best_error = i, reg_error_counts[i]\n",
    "\n",
    "                hold_out_predictions = (\n",
    "                    features[hold_out_index] @ reg_weights[best_param_index]\n",
    "                )\n",
    "                subset_err_counts[reg_index][hold_out_index] = (\n",
    "                    sum(\n",
    "                        np.sign(hold_out_predictions) != np.sign(labels[hold_out_index])\n",
    "                    )\n",
    "                    / subset_size\n",
    "                )\n",
    "\n",
    "                error_RLS[reg_index][current_hold_out_index] = subset_err_counts[\n",
    "                    reg_index\n",
    "                ][hold_out_index]\n",
    "                current_hold_out_index += 1\n",
    "\n",
    "    # Average over the entire dataset to find the classification error\n",
    "    cls_err = np.sum(subset_err_counts) / (subset_count * (subset_count - 1))\n",
    "    return cls_err"
   ]
  },
  {
   "cell_type": "code",
   "execution_count": 13,
   "metadata": {},
   "outputs": [],
   "source": [
    "# Run on the dataset with all features included\n",
    "full_feat_rls_err = regularized_ls(X, y)"
   ]
  },
  {
   "cell_type": "code",
   "execution_count": 14,
   "metadata": {},
   "outputs": [
    {
     "name": "stdout",
     "output_type": "stream",
     "text": [
      "0.04799107142857143\n",
      "Error estimate: 4.799%\n"
     ]
    }
   ],
   "source": [
    "param_err_RLS = param_err_RLS / (8 * 7)\n",
    "\n",
    "print(full_feat_rls_err)\n",
    "print(f\"Error estimate: {full_feat_rls_err*100:.3f}%\")"
   ]
  },
  {
   "cell_type": "markdown",
   "metadata": {},
   "source": [
    "# 6c"
   ]
  },
  {
   "cell_type": "code",
   "execution_count": 15,
   "metadata": {},
   "outputs": [],
   "source": [
    "feature_idcs = [i for i in range(p)]\n",
    "num_trials = 1000\n",
    "\n",
    "# SVD parameters to test\n",
    "k_vals = np.arange(12) + 1\n",
    "param_err_SVD = np.zeros(len(k_vals))\n",
    "\n",
    "# RLS parameters to test\n",
    "lambda_vals = np.array([0, 0.5, 1, 2, 4, 8, 16])\n",
    "param_err_RLS = np.zeros(len(lambda_vals))\n",
    "\n",
    "all_svd_errors = [0 for i in range(num_trials)]\n",
    "all_rls_errors = [0 for i in range(num_trials)]\n",
    "\n",
    "for trial in range(num_trials):\n",
    "    param_err_SVD = np.zeros(len(k_vals))\n",
    "    param_err_RLS = np.zeros(len(lambda_vals))\n",
    "    new_X = np.hstack((X, X @ np.random.rand(9, 3)))\n",
    "    all_svd_errors[trial] = truncated_svd(new_X, y, np.arange(p + 3) + 1)\n",
    "    all_rls_errors[trial] = regularized_ls(new_X, y)"
   ]
  },
  {
   "cell_type": "code",
   "execution_count": 16,
   "metadata": {},
   "outputs": [
    {
     "data": {
      "image/png": "[encoded data removed]",
      "text/plain": [
       "<Figure size 640x480 with 1 Axes>"
      ]
     },
     "metadata": {},
     "output_type": "display_data"
    }
   ],
   "source": [
    "bin_size = 0.001\n",
    "svd_bin_count = int((max(all_svd_errors) - min(all_svd_errors)) // bin_size)\n",
    "rls_bin_count = int((max(all_rls_errors) - min(all_rls_errors)) // bin_size)\n",
    "\n",
    "plt.hist(\n",
    "    all_svd_errors, bins=svd_bin_count, alpha=0.5, label=\"Truncated SVD\", color=\"red\"\n",
    ")\n",
    "plt.hist(\n",
    "    all_rls_errors, bins=rls_bin_count, alpha=0.5, label=\"Regularized LS\", color=\"blue\"\n",
    ")\n",
    "plt.xlabel(\"Error Rate\")\n",
    "plt.ylabel(\"Frequency\")\n",
    "plt.legend()\n",
    "plt.show()"
   ]
  },
  {
   "cell_type": "code",
   "execution_count": 17,
   "metadata": {},
   "outputs": [
    {
     "name": "stdout",
     "output_type": "stream",
     "text": [
      "SVD error mean = 0.0975, standard deviation = 0.0138\n",
      "RLS error mean = 0.0607, standard deviation = 0.0067\n"
     ]
    }
   ],
   "source": [
    "svd_mean, svd_std = np.mean(all_svd_errors), np.std(all_svd_errors)\n",
    "rls_mean, rls_std = np.mean(all_rls_errors), np.std(all_rls_errors)\n",
    "print(f\"SVD error mean = {svd_mean:.4f}, standard deviation = {svd_std:.4f}\")\n",
    "print(f\"RLS error mean = {rls_mean:.4f}, standard deviation = {rls_std:.4f}\")"
   ]
  },
  {
   "cell_type": "markdown",
   "metadata": {},
   "source": [
    "No, these features will not be useful since they are a linear combination of existing features. Therefore, they will not add any meaningful information. In particular, since the new features are redundant, they are in $span(X)$. As above, we see that RLS outperforms SVD like in the part (a). The error rates are also roughly similar to the error rates seen in part (a), indicating no substantial improvement by adding these new features. Since the new features generated are random linear combinations, the weights we get are slightly different each trial and induces variability in the error rates. Furthermore, we see that RLS seems to have less variability. Overall, less variability and lower error rate indicate RLS appears to be a better solution for this problem."
   ]
  }
 ],
 "metadata": {
  "kernelspec": {
   "display_name": "Python 3 (ipykernel)",
   "language": "python",
   "name": "python3"
  },
  "language_info": {
   "codemirror_mode": {
    "name": "ipython",
    "version": 3
   },
   "file_extension": ".py",
   "mimetype": "text/x-python",
   "name": "python",
   "nbconvert_exporter": "python",
   "pygments_lexer": "ipython3",
   "version": "3.8.5"
  }
 },
 "nbformat": 4,
 "nbformat_minor": 2
}
