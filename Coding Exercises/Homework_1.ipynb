{
 "cells": [
  {
   "cell_type": "code",
   "execution_count": 1,
   "id": "d1b8bd23",
   "metadata": {},
   "outputs": [],
   "source": [
    "import numpy as np\n",
    "import scipy.io as scio\n",
    "import matplotlib.pyplot as plt"
   ]
  },
  {
   "cell_type": "markdown",
   "id": "fe56d543",
   "metadata": {},
   "source": [
    "# 2e"
   ]
  },
  {
   "cell_type": "code",
   "execution_count": 2,
   "id": "432d2b6d",
   "metadata": {
    "scrolled": true
   },
   "outputs": [
    {
     "data": {
      "text/plain": [
       "array([[2350,  500,  200],\n",
       "       [2000,  405,  250],\n",
       "       [2000,  350,  400],\n",
       "       [2150,  210,  450]])"
      ]
     },
     "execution_count": 2,
     "metadata": {},
     "output_type": "execute_result"
    }
   ],
   "source": [
    "# 2a\n",
    "# rows: January, February, March, April\n",
    "# columns: A, B, C\n",
    "A = np.array([[2350, 500, 200], [2000, 405, 250], [2000, 350, 400], [2150, 210, 450]])\n",
    "A"
   ]
  },
  {
   "cell_type": "markdown",
   "id": "c1f393ca",
   "metadata": {},
   "source": [
    "<p> As expected, we get our profit matrix. The ith row and jth column represent the profit from country j in month i, measured in country j's dollars."
   ]
  },
  {
   "cell_type": "code",
   "execution_count": 3,
   "id": "c35ba653",
   "metadata": {},
   "outputs": [
    {
     "data": {
      "text/plain": [
       "array([[3950],\n",
       "       [3560],\n",
       "       [3900],\n",
       "       [3920]])"
      ]
     },
     "execution_count": 3,
     "metadata": {},
     "output_type": "execute_result"
    }
   ],
   "source": [
    "# 2b\n",
    "exchange_rates = np.array([[1], [2], [3]])\n",
    "profit_by_month = np.dot(A, exchange_rates)\n",
    "profit_by_month"
   ]
  },
  {
   "cell_type": "markdown",
   "id": "26e6d0ab",
   "metadata": {},
   "source": [
    "<p> As expected, we get the total profit of each month, measured via country A's dollars after accounting for exchange rates. In country A's dollars, January has 3950 dollars of profit, February has 3560 dollars of profit, March has 3900 dollars of profit, and April has 3920 dollars of profit."
   ]
  },
  {
   "cell_type": "code",
   "execution_count": 4,
   "id": "4570e11f",
   "metadata": {},
   "outputs": [
    {
     "data": {
      "text/plain": [
       "array([[8500, 1465, 1300]])"
      ]
     },
     "execution_count": 4,
     "metadata": {},
     "output_type": "execute_result"
    }
   ],
   "source": [
    "# 2c\n",
    "v = np.array([[1], [1], [1], [1]])\n",
    "vT = v.transpose()\n",
    "\n",
    "profit_by_country = np.dot(vT, A)\n",
    "profit_by_country"
   ]
  },
  {
   "cell_type": "markdown",
   "id": "c35294e3",
   "metadata": {},
   "source": [
    "<p> As expected, we get the total profit in each country across all the four months measured in the respective country's dollars. The total profit from country A is 8500 A dollars, total profit from country B is 1465 B dollars, and total profit from country C is 1300 C dollars."
   ]
  },
  {
   "cell_type": "code",
   "execution_count": 5,
   "id": "b6366371",
   "metadata": {},
   "outputs": [
    {
     "data": {
      "text/plain": [
       "array([[15330]])"
      ]
     },
     "execution_count": 5,
     "metadata": {},
     "output_type": "execute_result"
    }
   ],
   "source": [
    "# 2d\n",
    "total_profit = np.dot(profit_by_country, exchange_rates)\n",
    "total_profit"
   ]
  },
  {
   "cell_type": "markdown",
   "id": "43d9ab8c",
   "metadata": {},
   "source": [
    "<p> As expected, we get the total profit across all months and countries measured in country A's dollars. The total profit is 15330 A dollars."
   ]
  },
  {
   "cell_type": "markdown",
   "id": "71064756",
   "metadata": {},
   "source": [
    "# 3g"
   ]
  },
  {
   "cell_type": "code",
   "execution_count": 6,
   "id": "58e41bfb",
   "metadata": {},
   "outputs": [
    {
     "data": {
      "text/plain": [
       "array([[8, 0, 1, 1],\n",
       "       [9, 2, 9, 4],\n",
       "       [1, 5, 9, 9],\n",
       "       [9, 9, 4, 7],\n",
       "       [6, 9, 8, 9]])"
      ]
     },
     "execution_count": 6,
     "metadata": {},
     "output_type": "execute_result"
    }
   ],
   "source": [
    "X = np.array([[8, 0, 1, 1], [9, 2, 9, 4], [1, 5, 9, 9], [9, 9, 4, 7], [6, 9, 8, 9]])\n",
    "X"
   ]
  },
  {
   "cell_type": "code",
   "execution_count": 7,
   "id": "e95d445b",
   "metadata": {},
   "outputs": [
    {
     "data": {
      "text/plain": [
       "array([[1, 5, 9, 9]])"
      ]
     },
     "execution_count": 7,
     "metadata": {},
     "output_type": "execute_result"
    }
   ],
   "source": [
    "# 3a\n",
    "y = np.array([[0], [0], [1], [0], [0]])\n",
    "yT = y.transpose()\n",
    "np.dot(yT, X)"
   ]
  },
  {
   "cell_type": "markdown",
   "id": "a4f6bfe9",
   "metadata": {},
   "source": [
    "<p> As expected, we get the 3rd row of X with the correct elements."
   ]
  },
  {
   "cell_type": "code",
   "execution_count": 8,
   "id": "583cc95b",
   "metadata": {},
   "outputs": [
    {
     "name": "stdout",
     "output_type": "stream",
     "text": [
      "y when k = 1\n",
      " [[1]\n",
      " [0]\n",
      " [0]\n",
      " [0]\n",
      " [0]]\n",
      "row 1\n",
      " [[8 0 1 1]]\n",
      "y when k = 2\n",
      " [[0]\n",
      " [1]\n",
      " [0]\n",
      " [0]\n",
      " [0]]\n",
      "row 2\n",
      " [[9 2 9 4]]\n",
      "y when k = 3\n",
      " [[0]\n",
      " [0]\n",
      " [1]\n",
      " [0]\n",
      " [0]]\n",
      "row 3\n",
      " [[1 5 9 9]]\n",
      "y when k = 4\n",
      " [[0]\n",
      " [0]\n",
      " [0]\n",
      " [1]\n",
      " [0]]\n",
      "row 4\n",
      " [[9 9 4 7]]\n",
      "y when k = 5\n",
      " [[0]\n",
      " [0]\n",
      " [0]\n",
      " [0]\n",
      " [1]]\n",
      "row 5\n",
      " [[6 9 8 9]]\n"
     ]
    }
   ],
   "source": [
    "# 3b\n",
    "for k in [1, 2, 3, 4, 5]:\n",
    "    y_k = np.array([[0]] * (k - 1) + [[1]] + [[0]] * (5 - k))\n",
    "    y_kT = y_k.transpose()\n",
    "    print(\"y when k = {}\\n\".format(k), y_k)\n",
    "    print(\"row {}\\n\".format(k), np.dot(y_kT, X))"
   ]
  },
  {
   "cell_type": "markdown",
   "id": "d4d23871",
   "metadata": {},
   "source": [
    "<p> As expected, we get the 1st, 2nd, 3rd, 4th, and 5th row of X with the correct elements."
   ]
  },
  {
   "cell_type": "code",
   "execution_count": 9,
   "id": "e96c36f2",
   "metadata": {},
   "outputs": [
    {
     "data": {
      "text/plain": [
       "array([[ 22, -10, -15, -15]])"
      ]
     },
     "execution_count": 9,
     "metadata": {},
     "output_type": "execute_result"
    }
   ],
   "source": [
    "# 3c\n",
    "y = np.array([[3], [0], [-2], [0], [0]])\n",
    "yT = y.transpose()\n",
    "np.dot(yT, X)"
   ]
  },
  {
   "cell_type": "markdown",
   "id": "11fb9089",
   "metadata": {},
   "source": [
    "<p> As expected, we get 3 times the 1st row of X minus 2 times the 3rd row of X with the correct elements."
   ]
  },
  {
   "cell_type": "code",
   "execution_count": 10,
   "id": "af26dbd2",
   "metadata": {},
   "outputs": [
    {
     "data": {
      "text/plain": [
       "array([[-7],\n",
       "       [ 0],\n",
       "       [ 8],\n",
       "       [-5],\n",
       "       [ 2]])"
      ]
     },
     "execution_count": 10,
     "metadata": {},
     "output_type": "execute_result"
    }
   ],
   "source": [
    "# 3d\n",
    "w = [[-1], [0], [1], [0]]\n",
    "np.dot(X, w)"
   ]
  },
  {
   "cell_type": "markdown",
   "id": "2dd9b950",
   "metadata": {},
   "source": [
    "<p> As expected, we get the 3rd column of X minus the 1st column of X with the correct elements."
   ]
  },
  {
   "cell_type": "code",
   "execution_count": 11,
   "id": "54535ae1",
   "metadata": {},
   "outputs": [
    {
     "name": "stdout",
     "output_type": "stream",
     "text": [
      "w when k = 1\n",
      " [[1]\n",
      " [0]\n",
      " [0]\n",
      " [0]]\n",
      "column 1\n",
      " [[8]\n",
      " [9]\n",
      " [1]\n",
      " [9]\n",
      " [6]]\n",
      "w when k = 2\n",
      " [[0]\n",
      " [1]\n",
      " [0]\n",
      " [0]]\n",
      "column 2\n",
      " [[0]\n",
      " [2]\n",
      " [5]\n",
      " [9]\n",
      " [9]]\n",
      "w when k = 3\n",
      " [[0]\n",
      " [0]\n",
      " [1]\n",
      " [0]]\n",
      "column 3\n",
      " [[1]\n",
      " [9]\n",
      " [9]\n",
      " [4]\n",
      " [8]]\n",
      "w when k = 4\n",
      " [[0]\n",
      " [0]\n",
      " [0]\n",
      " [1]]\n",
      "column 4\n",
      " [[1]\n",
      " [4]\n",
      " [9]\n",
      " [7]\n",
      " [9]]\n"
     ]
    }
   ],
   "source": [
    "# 3e\n",
    "for k in [1, 2, 3, 4]:\n",
    "    w_k = np.array([[0]] * (k - 1) + [[1]] + [[0]] * (4 - k))\n",
    "    print(\"w when k = {}\\n\".format(k), w_k)\n",
    "    print(\"column {}\\n\".format(k), np.dot(X, w_k))"
   ]
  },
  {
   "cell_type": "markdown",
   "id": "a6fae534",
   "metadata": {},
   "source": [
    "<p> As expected, we get the 1st, 2nd, 3rd, and 4th column of X with the correct elements."
   ]
  },
  {
   "cell_type": "code",
   "execution_count": 12,
   "id": "ee7a9270",
   "metadata": {},
   "outputs": [
    {
     "name": "stdout",
     "output_type": "stream",
     "text": [
      "w when k = 1 and j = 2\n",
      " [[1.5]\n",
      " [2. ]\n",
      " [0. ]\n",
      " [0. ]]\n",
      "result\n",
      " [[12. ]\n",
      " [17.5]\n",
      " [11.5]\n",
      " [31.5]\n",
      " [27. ]]\n",
      "w when k = 1 and j = 3\n",
      " [[1.5]\n",
      " [0. ]\n",
      " [2. ]\n",
      " [0. ]]\n",
      "result\n",
      " [[14. ]\n",
      " [31.5]\n",
      " [19.5]\n",
      " [21.5]\n",
      " [25. ]]\n",
      "w when k = 1 and j = 4\n",
      " [[1.5]\n",
      " [0. ]\n",
      " [0. ]\n",
      " [2. ]]\n",
      "result\n",
      " [[14. ]\n",
      " [21.5]\n",
      " [19.5]\n",
      " [27.5]\n",
      " [27. ]]\n",
      "w when k = 2 and j = 1\n",
      " [[2. ]\n",
      " [1.5]\n",
      " [0. ]\n",
      " [0. ]]\n",
      "result\n",
      " [[16. ]\n",
      " [21. ]\n",
      " [ 9.5]\n",
      " [31.5]\n",
      " [25.5]]\n",
      "w when k = 2 and j = 3\n",
      " [[0. ]\n",
      " [1.5]\n",
      " [2. ]\n",
      " [0. ]]\n",
      "result\n",
      " [[ 2. ]\n",
      " [21. ]\n",
      " [25.5]\n",
      " [21.5]\n",
      " [29.5]]\n",
      "w when k = 2 and j = 4\n",
      " [[0. ]\n",
      " [1.5]\n",
      " [0. ]\n",
      " [2. ]]\n",
      "result\n",
      " [[ 2. ]\n",
      " [11. ]\n",
      " [25.5]\n",
      " [27.5]\n",
      " [31.5]]\n",
      "w when k = 3 and j = 1\n",
      " [[2. ]\n",
      " [0. ]\n",
      " [1.5]\n",
      " [0. ]]\n",
      "result\n",
      " [[17.5]\n",
      " [31.5]\n",
      " [15.5]\n",
      " [24. ]\n",
      " [24. ]]\n",
      "w when k = 3 and j = 2\n",
      " [[0. ]\n",
      " [2. ]\n",
      " [1.5]\n",
      " [0. ]]\n",
      "result\n",
      " [[ 1.5]\n",
      " [17.5]\n",
      " [23.5]\n",
      " [24. ]\n",
      " [30. ]]\n",
      "w when k = 3 and j = 4\n",
      " [[0. ]\n",
      " [0. ]\n",
      " [1.5]\n",
      " [2. ]]\n",
      "result\n",
      " [[ 3.5]\n",
      " [21.5]\n",
      " [31.5]\n",
      " [20. ]\n",
      " [30. ]]\n",
      "w when k = 4 and j = 1\n",
      " [[2. ]\n",
      " [0. ]\n",
      " [0. ]\n",
      " [1.5]]\n",
      "result\n",
      " [[17.5]\n",
      " [24. ]\n",
      " [15.5]\n",
      " [28.5]\n",
      " [25.5]]\n",
      "w when k = 4 and j = 2\n",
      " [[0. ]\n",
      " [2. ]\n",
      " [0. ]\n",
      " [1.5]]\n",
      "result\n",
      " [[ 1.5]\n",
      " [10. ]\n",
      " [23.5]\n",
      " [28.5]\n",
      " [31.5]]\n",
      "w when k = 4 and j = 3\n",
      " [[0. ]\n",
      " [0. ]\n",
      " [2. ]\n",
      " [1.5]]\n",
      "result\n",
      " [[ 3.5]\n",
      " [24. ]\n",
      " [31.5]\n",
      " [18.5]\n",
      " [29.5]]\n"
     ]
    }
   ],
   "source": [
    "# 3f\n",
    "a, b = 1.5, 2\n",
    "for k in [1, 2, 3, 4]:\n",
    "    for j in [1, 2, 3, 4]:\n",
    "        # assumption\n",
    "        if k != j:\n",
    "            w_kj = np.zeros((4, 1))\n",
    "            w_kj[k - 1] = a\n",
    "            w_kj[j - 1] = b\n",
    "            print(\"w when k = {} and j = {}\\n\".format(k, j), w_kj)\n",
    "            print(\"result\\n\", np.dot(X, w_kj))"
   ]
  },
  {
   "cell_type": "markdown",
   "id": "c9a9789a",
   "metadata": {},
   "source": [
    "<p> Here, we get a times the kth column of X + b times the jth column of X, where a = 1.5 and b = 2. We also assume that k is not equal to j."
   ]
  },
  {
   "cell_type": "code",
   "execution_count": 14,
   "id": "7f9d56df",
   "metadata": {},
   "outputs": [
    {
     "data": {
      "image/png": "[encoded data removed]",
      "text/plain": [
       "<Figure size 640x480 with 1 Axes>"
      ]
     },
     "metadata": {},
     "output_type": "display_data"
    }
   ],
   "source": [
    "# n = number of points\n",
    "# z = points where polynomial is evaluated\n",
    "# p = array to store the values of the interpolated polynomials\n",
    "n = 100\n",
    "z = np.linspace(-1, 1, n)\n",
    "\n",
    "d = 3  # degree\n",
    "w = np.random.rand(d)\n",
    "\n",
    "# TODO : generate X - matrix\n",
    "X = np.vander(z, d)\n",
    "\n",
    "# TODO : evaluate polynomial at all points z,\n",
    "# and store the result in p\n",
    "# do NOT use a loop for this\n",
    "p = np.dot(X, w)\n",
    "\n",
    "# plot the datapoints and the best - fit polynomials\n",
    "plt.plot(z, p, linewidth=2)\n",
    "plt.xlabel(\"z\")\n",
    "plt.ylabel(\"y\")\n",
    "plt.title(\"polynomial with coefficients w = % s\" % w)\n",
    "plt.show()"
   ]
  }
 ],
 "metadata": {
  "kernelspec": {
   "display_name": "Python 3 (ipykernel)",
   "language": "python",
   "name": "python3"
  },
  "language_info": {
   "codemirror_mode": {
    "name": "ipython",
    "version": 3
   },
   "file_extension": ".py",
   "mimetype": "text/x-python",
   "name": "python",
   "nbconvert_exporter": "python",
   "pygments_lexer": "ipython3",
   "version": "3.8.5"
  }
 },
 "nbformat": 4,
 "nbformat_minor": 5
}
