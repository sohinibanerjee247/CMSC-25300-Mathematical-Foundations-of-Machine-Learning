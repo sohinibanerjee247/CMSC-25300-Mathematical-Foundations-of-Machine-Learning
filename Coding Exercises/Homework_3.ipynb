{
 "cells": [
  {
   "cell_type": "code",
   "execution_count": 1,
   "metadata": {},
   "outputs": [],
   "source": [
    "import numpy as np\n",
    "import scipy.io\n",
    "import matplotlib.pyplot as plt\n",
    "from matplotlib import colors\n",
    "\n",
    "import numpy as np\n",
    "import numpy.linalg as la"
   ]
  },
  {
   "cell_type": "markdown",
   "metadata": {},
   "source": [
    "# 3a"
   ]
  },
  {
   "cell_type": "markdown",
   "metadata": {},
   "source": [
    "Since there are three types of flowers, we can label the setosa flower as -1, the versicolor flower as 0, and the virginica flower as 1. Then, once we produce a real-valued prediction, we can turn that into a discrete prediction by finding whether our real-valued prediction is closest to -1, 0, or 1."
   ]
  },
  {
   "cell_type": "markdown",
   "metadata": {},
   "source": [
    "# 3b"
   ]
  },
  {
   "cell_type": "code",
   "execution_count": 2,
   "metadata": {},
   "outputs": [],
   "source": [
    "def plot_matrix_pairwise_column_inner_prods(X: np.ndarray) -> None:\n",
    "    \"\"\"\n",
    "    This function plots X^T X.\n",
    "\n",
    "    Inputs: X (np.ndarray): has shape (n, p).\n",
    "    \"\"\"\n",
    "    plt_arr = X.T @ X\n",
    "    print(plt_arr)\n",
    "\n",
    "    # find the max of the absolute vals of X^T X to set the colorscale\n",
    "    max_val = np.max(np.abs(plt_arr))\n",
    "\n",
    "    # This color norm ensures that 0 is always plotted as white\n",
    "    color_norm = colors.TwoSlopeNorm(vmin=-1 * max_val, vcenter=0, vmax=max_val)\n",
    "\n",
    "    plt.imshow(plt_arr, cmap=\"bwr\", norm=color_norm)\n",
    "    plt.ylabel(\"Row i\", size=15)\n",
    "    plt.xlabel(\"Column j\", size=15)\n",
    "    plt.colorbar()\n",
    "    plt.title(\"$X^\\\\top X$\", size=20)\n",
    "    plt.show()"
   ]
  },
  {
   "cell_type": "code",
   "execution_count": 3,
   "metadata": {},
   "outputs": [
    {
     "name": "stdout",
     "output_type": "stream",
     "text": [
      "[[ 5.22385000e+03  2.67343000e+03  3.48376000e+03  1.12814000e+03\n",
      "   9.38660038e-13]\n",
      " [ 2.67343000e+03  1.43040000e+03  1.67430000e+03  5.31890000e+02\n",
      "  -1.50990331e-13]\n",
      " [ 3.48376000e+03  1.67430000e+03  2.58271000e+03  8.69110000e+02\n",
      "  -1.08657305e-13]\n",
      " [ 1.12814000e+03  5.31890000e+02  8.69110000e+02  3.02330000e+02\n",
      "  -1.42968982e-16]\n",
      " [ 9.38660038e-13 -1.50990331e-13 -1.08657305e-13 -1.42968982e-16\n",
      "   7.71772902e+00]]\n"
     ]
    },
    {
     "data": {
      "image/png": "[encoded data removed]",
      "text/plain": [
       "<Figure size 640x480 with 2 Axes>"
      ]
     },
     "metadata": {},
     "output_type": "display_data"
    }
   ],
   "source": [
    "# STARTER CODE\n",
    "import numpy as np\n",
    "import scipy.io\n",
    "import matplotlib.pyplot as plt\n",
    "from matplotlib import colors\n",
    "\n",
    "# load data, make sure `fisheriris.mat` is in your working directory\n",
    "data = scipy.io.loadmat(\"fisheriris.mat\")\n",
    "X = data[\"meas\"]\n",
    "y_text = data[\"species\"]\n",
    "\n",
    "############################\n",
    "# YOUR CODE BELOW\n",
    "# Process and assign numerical values to\n",
    "# `y` according to your (a), make sure `y` is a 1d numpy array.\n",
    "# If dimensions are mismatching, you may find `y = y.flatten()` useful.\n",
    "y = np.copy(y_text)\n",
    "y[y == \"setosa\"] = -1\n",
    "y[y == \"versicolor\"] = 0\n",
    "y[y == \"virginica\"] = 1\n",
    "y = np.array(y, dtype=float)\n",
    "\n",
    "# Compute the least squares weights\n",
    "w = la.inv(X.T @ X) @ X.T @ y\n",
    "\n",
    "# Compute the residuals\n",
    "r = y - X @ w\n",
    "\n",
    "# Make a plot\n",
    "A = np.column_stack((X, r))\n",
    "plot_matrix_pairwise_column_inner_prods(A)"
   ]
  },
  {
   "cell_type": "markdown",
   "metadata": {},
   "source": [
    "In this method, we used the given code from the recitation to plot rows against columns for $X^T \\cdot X$. Here, the only entries that are of concern are where row $i = 0, 1, 2, 3$ and column $j = 4$, representing $X_1, X_2, X_3, X_4$ and $r$, respectively. To ensure that $r$ is orthogonal to the columns of $X$, we compute the inner product between $X_i$ and $r$ and see that they are all $0$, which we printed out above the plot."
   ]
  },
  {
   "cell_type": "markdown",
   "metadata": {},
   "source": [
    "Nonetheless, another way to calculate this without using a plot is to simply compute $X^T \\cdot r$ and see that we approximately get the $0$ vector as follows:"
   ]
  },
  {
   "cell_type": "code",
   "execution_count": 4,
   "metadata": {},
   "outputs": [
    {
     "data": {
      "text/plain": [
       "array([[ 9.40136857e-13],\n",
       "       [-1.49213975e-13],\n",
       "       [-1.15463195e-13],\n",
       "       [-2.99760217e-15]])"
      ]
     },
     "execution_count": 4,
     "metadata": {},
     "output_type": "execute_result"
    }
   ],
   "source": [
    "X.T @ r"
   ]
  },
  {
   "cell_type": "markdown",
   "metadata": {},
   "source": [
    "## Problem 3c"
   ]
  },
  {
   "cell_type": "code",
   "execution_count": 5,
   "metadata": {},
   "outputs": [],
   "source": [
    "# STARTER CODE\n",
    "import numpy as np\n",
    "import scipy.io\n",
    "\n",
    "# load data, make sure `fisheriris.mat` is in your working directory\n",
    "data = scipy.io.loadmat(\"fisheriris.mat\")\n",
    "# training data\n",
    "X = data[\"meas\"]\n",
    "y_text = data[\"species\"]\n",
    "\n",
    "############################\n",
    "# YOUR CODE BELOW\n",
    "# Process and assign numerical values to\n",
    "# `y` according to your (a), make sure `y` is a 1d numpy array.\n",
    "# If dimensions are mismatching, you may find `y = y.flatten()` useful.\n",
    "y = np.copy(y_text)\n",
    "y[y == \"setosa\"] = -1\n",
    "y[y == \"versicolor\"] = 0\n",
    "y[y == \"virginica\"] = 1\n",
    "y = np.array(y, dtype=float)\n",
    "\n",
    "# number of random trials\n",
    "N = 10_000\n",
    "# array to store errors\n",
    "errs = np.zeros(N)\n",
    "# size of training set\n",
    "num_train = 40\n",
    "\n",
    "for i in np.arange(N):\n",
    "    # initialize 0-length arrays for the train and holdout indices. These\n",
    "    # arrays will be filled in the inner loop.\n",
    "    idx_train = np.zeros(0, dtype=np.intp)\n",
    "    idx_holdout = np.zeros(0, dtype=np.intp)\n",
    "\n",
    "    # There are 3 label types and 50 samples of each type\n",
    "    for label_type in range(3):\n",
    "        # Choose a random ordering of the 50 samples\n",
    "        r = np.random.permutation(50)\n",
    "        # Add the first num_train indices of the random ordering to\n",
    "        # the idx_train array\n",
    "        idx_train = np.concatenate((idx_train, 50 * label_type + r[:num_train]))\n",
    "        # Add the rest of the indices to the idx_holdout array\n",
    "        idx_holdout = np.concatenate((idx_holdout, 50 * label_type + r[num_train:]))\n",
    "\n",
    "    # divide data and labels into the train and holdout sets\n",
    "    Xt = X[idx_train]\n",
    "    yt = y[idx_train]\n",
    "    Xh = X[idx_holdout]\n",
    "    yh = y[idx_holdout]\n",
    "\n",
    "    ########################\n",
    "    # YOUR CODE BELOW\n",
    "    # Solve for the LS weights\n",
    "    w = la.inv(Xt.T @ Xt) @ Xt.T @ yt\n",
    "\n",
    "    # Make predictions using the LS weights\n",
    "    predictions = Xh @ w\n",
    "\n",
    "    # Turn the real-valued predictions into class labels\n",
    "    for k in range(len(predictions)):\n",
    "        dist_neg, dist_zero, dist_pos = (\n",
    "            abs(predictions[k] + 1),\n",
    "            abs(predictions[k]),\n",
    "            abs(predictions[k] - 1),\n",
    "        )\n",
    "        min_dist = min(dist_neg, dist_zero, dist_pos)\n",
    "        if min_dist == dist_neg:\n",
    "            predictions[k] = -1\n",
    "        if min_dist == dist_zero:\n",
    "            predictions[k] = 0\n",
    "        if min_dist == dist_pos:\n",
    "            predictions[k] = 1\n",
    "\n",
    "    # Compute the errors\n",
    "    count = 0\n",
    "    for k in range(len(predictions)):\n",
    "        if predictions[k] != yh[k]:\n",
    "            count += 1\n",
    "    errs[i] = count / 30"
   ]
  },
  {
   "cell_type": "code",
   "execution_count": 6,
   "metadata": {},
   "outputs": [
    {
     "data": {
      "text/plain": [
       "0.031970000000001116"
      ]
     },
     "execution_count": 6,
     "metadata": {},
     "output_type": "execute_result"
    }
   ],
   "source": [
    "sum(errs) / len(errs)"
   ]
  },
  {
   "cell_type": "markdown",
   "metadata": {},
   "source": [
    "As seen here, the average test error is roughly 3.2%, which indicates our model was quite successful."
   ]
  },
  {
   "cell_type": "markdown",
   "metadata": {},
   "source": [
    "## Problem 3d"
   ]
  },
  {
   "cell_type": "code",
   "execution_count": 7,
   "metadata": {},
   "outputs": [],
   "source": [
    "# STARTER CODE\n",
    "import numpy as np\n",
    "import scipy.io\n",
    "\n",
    "# load data, make sure `fisheriris.mat` is in your working directory\n",
    "data = scipy.io.loadmat(\"fisheriris.mat\")\n",
    "# training data\n",
    "X = data[\"meas\"]\n",
    "y_text = data[\"species\"]\n",
    "############################\n",
    "# YOUR CODE BELOW\n",
    "# Process and assign numerical values to\n",
    "# `y` according to your (a), make sure `y` is a 1d numpy array.\n",
    "# If dimensions are mismatching, you may find `y = y.flatten()` useful.\n",
    "y = np.copy(y_text)\n",
    "y[y == \"setosa\"] = -1\n",
    "y[y == \"versicolor\"] = 0\n",
    "y[y == \"virginica\"] = 1\n",
    "y = np.array(y, dtype=float)\n",
    "\n",
    "\n",
    "# number of random trials\n",
    "N = 1_000\n",
    "# Min / Max size of the training set\n",
    "min_num_train = 4\n",
    "max_num_train = 40\n",
    "\n",
    "# Arrays to store error rates\n",
    "train_errs = np.zeros((max_num_train - min_num_train, N))\n",
    "test_errs = np.zeros((max_num_train - min_num_train, N))\n",
    "\n",
    "n_train_vals = np.arange(min_num_train, max_num_train)\n",
    "\n",
    "\n",
    "for j, n_train in enumerate(n_train_vals):\n",
    "    for i in np.arange(N):\n",
    "        # initialize 0-length arrays for the train and holdout indices.\n",
    "        # These arrays will be filled in the inner loop.\n",
    "        idx_train = np.zeros(0, dtype=np.intp)\n",
    "        idx_holdout = np.zeros(0, dtype=np.intp)\n",
    "\n",
    "        # There are 3 label types and 50 samples of each type\n",
    "        for label_type in range(3):\n",
    "            # Choose a random ordering of the 50 samples\n",
    "            r = np.random.permutation(50)\n",
    "            # Add the first num_train indices of the random ordering to\n",
    "            # the idx_train array\n",
    "            idx_train = np.concatenate((idx_train, 50 * label_type + r[:n_train]))\n",
    "            # Add the rest of the indices to the idx_holdout array\n",
    "            idx_holdout = np.concatenate((idx_holdout, 50 * label_type + r[n_train:]))\n",
    "\n",
    "        # divide data and labels into the train and holdout sets\n",
    "        Xt = X[idx_train]\n",
    "        yt = y[idx_train]\n",
    "        Xh = X[idx_holdout]\n",
    "        yh = y[idx_holdout]\n",
    "\n",
    "        ########################\n",
    "        # YOUR CODE BELOW\n",
    "        # Solve for the LS weights\n",
    "        w = la.inv(Xt.T @ Xt) @ Xt.T @ yt\n",
    "\n",
    "        # Make predictions using the LS weights\n",
    "        predictions_train = Xt @ w\n",
    "        predictions_test = Xh @ w\n",
    "\n",
    "        # Turn the real-valued predictions into class labels\n",
    "        for k in range(len(predictions_train)):\n",
    "            dist_neg, dist_zero, dist_pos = (\n",
    "                abs(predictions_train[k] + 1),\n",
    "                abs(predictions_train[k]),\n",
    "                abs(predictions_train[k] - 1),\n",
    "            )\n",
    "            min_dist = min(dist_neg, dist_zero, dist_pos)\n",
    "            if min_dist == dist_neg:\n",
    "                predictions_train[k] = -1\n",
    "            if min_dist == dist_zero:\n",
    "                predictions_train[k] = 0\n",
    "            if min_dist == dist_pos:\n",
    "                predictions_train[k] = 1\n",
    "\n",
    "        for k in range(len(predictions_test)):\n",
    "            dist_neg, dist_zero, dist_pos = (\n",
    "                abs(predictions_test[k] + 1),\n",
    "                abs(predictions_test[k]),\n",
    "                abs(predictions_test[k] - 1),\n",
    "            )\n",
    "            min_dist = min(dist_neg, dist_zero, dist_pos)\n",
    "            if min_dist == dist_neg:\n",
    "                predictions_test[k] = -1\n",
    "            if min_dist == dist_zero:\n",
    "                predictions_test[k] = 0\n",
    "            if min_dist == dist_pos:\n",
    "                predictions_test[k] = 1\n",
    "\n",
    "        # Compute the errors\n",
    "        count_train = 0\n",
    "        for k in range(len(predictions_train)):\n",
    "            if predictions_train[k] != yt[k]:\n",
    "                count_train += 1\n",
    "\n",
    "        count_test = 0\n",
    "        for k in range(len(predictions_test)):\n",
    "            if predictions_test[k] != yh[k]:\n",
    "                count_test += 1\n",
    "\n",
    "        train_errs[j][i] = count_train / Xt.shape[0]\n",
    "        test_errs[j][i] = count_test / Xh.shape[0]"
   ]
  },
  {
   "cell_type": "code",
   "execution_count": 8,
   "metadata": {},
   "outputs": [
    {
     "data": {
      "text/plain": [
       "[<matplotlib.lines.Line2D at 0x7fc470205fd0>]"
      ]
     },
     "execution_count": 8,
     "metadata": {},
     "output_type": "execute_result"
    },
    {
     "data": {
      "image/png": "[encoded data removed]",
      "text/plain": [
       "<Figure size 640x480 with 1 Axes>"
      ]
     },
     "metadata": {},
     "output_type": "display_data"
    }
   ],
   "source": [
    "###################\n",
    "# YOUR CODE BELOW\n",
    "# Make a plot of the train and test errors as a function of\n",
    "# training set size\n",
    "avg_train_errs = [\n",
    "    sum(train_errs[j]) / len(train_errs[j])\n",
    "    for j in range(max_num_train - min_num_train)\n",
    "]\n",
    "avg_test_errs = [\n",
    "    sum(test_errs[j]) / len(test_errs[j]) for j in range(max_num_train - min_num_train)\n",
    "]\n",
    "\n",
    "plt.plot(n_train_vals, avg_train_errs)\n",
    "plt.plot(n_train_vals, avg_test_errs)"
   ]
  },
  {
   "cell_type": "markdown",
   "metadata": {},
   "source": [
    "In the plot above, the train error is in blue and test error is in orange. We see that as the size of the training set increases, the train error increases which makes sense since it is a lot easier to classify the data accurately when there are fewer things to classify. On the other hand, as the size of the training set increases, the test error decreases which makes sense because we are able to train our data more effectively using the larger training set.\n",
    "\n",
    "The end goal is to predict a new data point accurately, and we observe that the train and test set error are nearly identical when the number of samples is around $40$. Therefore, it would be a good idea to use $40$ as the training size, since then we get roughly similar performance on train and test data, and there is sufficient data for the training to occur properly. We also see that at this point, we stop improving our training accuracy and decreasing our test accuracy, so it suggests asymptotic behavior where we will get little improvement if we keep increasing our training size."
   ]
  },
  {
   "cell_type": "markdown",
   "metadata": {},
   "source": [
    "# 3e"
   ]
  },
  {
   "cell_type": "code",
   "execution_count": 9,
   "metadata": {},
   "outputs": [],
   "source": [
    "# STARTER CODE\n",
    "import numpy as np\n",
    "import scipy.io\n",
    "\n",
    "# load data, make sure `fisheriris.mat` is in your working directory\n",
    "data = scipy.io.loadmat(\"fisheriris.mat\")\n",
    "# training data\n",
    "X = data[\"meas\"]\n",
    "y_text = data[\"species\"]\n",
    "\n",
    "############################\n",
    "# YOUR CODE BELOW\n",
    "# Process and assign numerical values to\n",
    "# `y` according to your (a), make sure `y` is a 1d numpy array.\n",
    "# If dimensions are mismatching, you may find `y = y.flatten()` useful.\n",
    "y = np.copy(y_text)\n",
    "y[y == \"setosa\"] = -1\n",
    "y[y == \"versicolor\"] = 0\n",
    "y[y == \"virginica\"] = 1\n",
    "y = np.array(y, dtype=float)\n",
    "X = X[:, [0, 2]]\n",
    "\n",
    "# number of random trials\n",
    "N = 10_000\n",
    "# array to store errors\n",
    "errs = np.zeros(N)\n",
    "# size of training set\n",
    "num_train = 40\n",
    "\n",
    "for i in np.arange(N):\n",
    "    # initialize 0-length arrays for the train and holdout indices. These\n",
    "    # arrays will be filled in the inner loop.\n",
    "    idx_train = np.zeros(0, dtype=np.intp)\n",
    "    idx_holdout = np.zeros(0, dtype=np.intp)\n",
    "\n",
    "    # There are 3 label types and 50 samples of each type\n",
    "    for label_type in range(3):\n",
    "        # Choose a random ordering of the 50 samples\n",
    "        r = np.random.permutation(50)\n",
    "        # Add the first num_train indices of the random ordering to\n",
    "        # the idx_train array\n",
    "        idx_train = np.concatenate((idx_train, 50 * label_type + r[:num_train]))\n",
    "        # Add the rest of the indices to the idx_holdout array\n",
    "        idx_holdout = np.concatenate((idx_holdout, 50 * label_type + r[num_train:]))\n",
    "\n",
    "    # divide data and labels into the train and holdout sets\n",
    "    Xt = X[idx_train]\n",
    "    yt = y[idx_train]\n",
    "    Xh = X[idx_holdout]\n",
    "    yh = y[idx_holdout]\n",
    "\n",
    "    ########################\n",
    "    # YOUR CODE BELOW\n",
    "    # Solve for the LS weights\n",
    "    w = la.inv(Xt.T @ Xt) @ Xt.T @ yt\n",
    "\n",
    "    # Make predictions using the LS weights\n",
    "    predictions = Xh @ w\n",
    "\n",
    "    # Turn the real-valued predictions into class labels\n",
    "    for k in range(len(predictions)):\n",
    "        dist_neg, dist_zero, dist_pos = (\n",
    "            abs(predictions[k] + 1),\n",
    "            abs(predictions[k]),\n",
    "            abs(predictions[k] - 1),\n",
    "        )\n",
    "        min_dist = min(dist_neg, dist_zero, dist_pos)\n",
    "        if min_dist == dist_neg:\n",
    "            predictions[k] = -1\n",
    "        if min_dist == dist_zero:\n",
    "            predictions[k] = 0\n",
    "        if min_dist == dist_pos:\n",
    "            predictions[k] = 1\n",
    "\n",
    "    # Compute the errors\n",
    "    count = 0\n",
    "    for k in range(len(predictions)):\n",
    "        if predictions[k] != yh[k]:\n",
    "            count += 1\n",
    "    errs[i] = count / 30"
   ]
  },
  {
   "cell_type": "code",
   "execution_count": 10,
   "metadata": {},
   "outputs": [
    {
     "data": {
      "text/plain": [
       "0.05715666666667161"
      ]
     },
     "execution_count": 10,
     "metadata": {},
     "output_type": "execute_result"
    }
   ],
   "source": [
    "sum(errs) / len(errs)"
   ]
  },
  {
   "cell_type": "markdown",
   "metadata": {},
   "source": [
    "As seen here, the average test error is roughly 5.7%, which indicates our model was quite successful. This error is higher than when we used all features, which intuitively makes sense because we are losing information by dropping some features, making it harder to classify the data points accurately. Note that the only change we made to this code from before was changing $X$ to only include the first and third columns: $X = X[:, [0, 2]]$."
   ]
  },
  {
   "cell_type": "markdown",
   "metadata": {},
   "source": [
    "# 4c"
   ]
  },
  {
   "cell_type": "code",
   "execution_count": 11,
   "metadata": {},
   "outputs": [
    {
     "data": {
      "text/plain": [
       "array([[0.],\n",
       "       [0.],\n",
       "       [0.]])"
      ]
     },
     "execution_count": 11,
     "metadata": {},
     "output_type": "execute_result"
    }
   ],
   "source": [
    "### STARTER CODE\n",
    "import numpy as np\n",
    "import numpy.linalg as la\n",
    "\n",
    "p = np.array([[4, 6, 0.0], [2, 3, 0.0], [0.0, 3, 1.0]])\n",
    "### YOUR CODE BELOW\n",
    "\n",
    "y1 = np.array([[1], [0], [0]])\n",
    "y2 = np.array([[0], [1], [0]])\n",
    "y3 = np.array([[0], [0], [1]])\n",
    "\n",
    "v1 = p @ y1\n",
    "v2 = p @ y2\n",
    "v3 = p @ y3\n",
    "\n",
    "u1 = v1 / la.norm(v1)\n",
    "\n",
    "v2bar = v2 - (u1.T @ v2) * u1\n",
    "u2 = v2bar / la.norm(v2bar)\n",
    "\n",
    "v3bar = v3 - (u1.T @ v3) * u1 - (u2.T @ v3) * u2\n",
    "v3bar"
   ]
  },
  {
   "cell_type": "markdown",
   "metadata": {},
   "source": [
    "In this case, it is evident that the third vector is 0 which aligns with our understanding that the subspace is a plane in $R^3$, so it can be spanned by 2 linearly independent vectors that lie in the plane."
   ]
  },
  {
   "cell_type": "code",
   "execution_count": 12,
   "metadata": {},
   "outputs": [
    {
     "name": "stdout",
     "output_type": "stream",
     "text": [
      "[[0.89442719]\n",
      " [0.4472136 ]\n",
      " [0.        ]]\n",
      "[[0.]\n",
      " [0.]\n",
      " [1.]]\n"
     ]
    }
   ],
   "source": [
    "print(u1)\n",
    "print(u2)"
   ]
  }
 ],
 "metadata": {
  "kernelspec": {
   "display_name": "Python 3 (ipykernel)",
   "language": "python",
   "name": "python3"
  },
  "language_info": {
   "codemirror_mode": {
    "name": "ipython",
    "version": 3
   },
   "file_extension": ".py",
   "mimetype": "text/x-python",
   "name": "python",
   "nbconvert_exporter": "python",
   "pygments_lexer": "ipython3",
   "version": "3.8.5"
  }
 },
 "nbformat": 4,
 "nbformat_minor": 2
}
